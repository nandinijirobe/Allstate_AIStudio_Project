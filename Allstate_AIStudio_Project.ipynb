{
 "cells": [
  {
   "attachments": {},
   "cell_type": "markdown",
   "id": "d8cfa826",
   "metadata": {},
   "source": [
    "<!-- This is a  -->"
   ]
  },
  {
   "attachments": {},
   "cell_type": "markdown",
   "id": "abb8dfad",
   "metadata": {},
   "source": [
    "<!-- HEY CAN YOU SEE THESE CHANGES? -->"
   ]
  }
 ],
 "metadata": {
  "kernelspec": {
   "display_name": "Python 3 (ipykernel)",
   "language": "python",
   "name": "python3"
  },
  "language_info": {
   "codemirror_mode": {
    "name": "ipython",
    "version": 3
   },
   "file_extension": ".py",
   "mimetype": "text/x-python",
   "name": "python",
   "nbconvert_exporter": "python",
   "pygments_lexer": "ipython3",
   "version": "3.10.9"
  }
 },
 "nbformat": 4,
 "nbformat_minor": 5
}
