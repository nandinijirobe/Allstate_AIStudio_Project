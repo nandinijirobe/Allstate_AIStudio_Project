{
  "cells": [
    {
      "cell_type": "markdown",
      "metadata": {
        "id": "view-in-github",
        "colab_type": "text"
      },
      "source": [
        "<a href=\"https://colab.research.google.com/github/nandinijirobe/Allstate_AIStudio_Project/blob/main/Allstate_AI_Studio_Project.ipynb\" target=\"_parent\"><img src=\"https://colab.research.google.com/assets/colab-badge.svg\" alt=\"Open In Colab\"/></a>"
      ]
    },
    {
      "cell_type": "markdown",
      "metadata": {
        "id": "dDqbV36AIUiw"
      },
      "source": [
        "# **Import Packages**"
      ]
    },
    {
      "cell_type": "code",
      "source": [
        "from google.colab import drive\n",
        "drive.mount('/content/drive')"
      ],
      "metadata": {
        "id": "s3DY3HWRYRNu",
        "colab": {
          "base_uri": "https://localhost:8080/"
        },
        "outputId": "6a432692-720c-40b7-8f68-d089dea36e37"
      },
      "execution_count": 1,
      "outputs": [
        {
          "output_type": "stream",
          "name": "stdout",
          "text": [
            "Mounted at /content/drive\n"
          ]
        }
      ]
    },
    {
      "cell_type": "code",
      "execution_count": 2,
      "metadata": {
        "id": "EdEeh4pjO4vO"
      },
      "outputs": [],
      "source": [
        "import pandas as pd\n",
        "import os\n",
        "from google.colab import drive"
      ]
    },
    {
      "cell_type": "markdown",
      "metadata": {
        "id": "gAVJXe3XzZSE"
      },
      "source": [
        "# **Part 1: Load the Data Set**\n",
        "Note: To be able to access the Fire Data in this Colab, you must add the shared drive with the data files as a shortcut to your personal drive"
      ]
    },
    {
      "cell_type": "code",
      "execution_count": 3,
      "metadata": {
        "id": "rAiDYOXWMnZW",
        "colab": {
          "base_uri": "https://localhost:8080/"
        },
        "outputId": "f1d63990-7b65-4f7b-ea7c-f04b3a7c51f4"
      },
      "outputs": [
        {
          "output_type": "stream",
          "name": "stdout",
          "text": [
            "Drive already mounted at /content/drive/; to attempt to forcibly remount, call drive.mount(\"/content/drive/\", force_remount=True).\n"
          ]
        }
      ],
      "source": [
        "drive.mount('/content/drive/')"
      ]
    },
    {
      "cell_type": "code",
      "source": [
        "df1 = pd.DataFrame()\n",
        "df2 = pd.DataFrame()\n",
        "df3 = pd.DataFrame()\n",
        "df4 = pd.DataFrame()\n",
        "df5 = pd.DataFrame()\n",
        "\n",
        "for year in range(1992, 1997):\n",
        "  file_path = f'/content/drive/My Drive/Allstate (VIR) - Wildfire Incidence and Property Insurance: A Data-Driven Analysis (Team B)/AllstateDataFiles/fires_'+str(year)+ '.csv'\n",
        "  new_data = pd.read_csv(file_path)\n",
        "  df1 = pd.concat([df, new_data], axis=0)\n",
        "\n",
        "for year in range(1998, 2003):\n",
        "  file_path = f'/content/drive/My Drive/Allstate (VIR) - Wildfire Incidence and Property Insurance: A Data-Driven Analysis (Team B)/AllstateDataFiles/fires_'+str(year)+ '.csv'\n",
        "  new_data = pd.read_csv(file_path)\n",
        "  df2 = pd.concat([df, new_data], axis=0)\n",
        "\n",
        "for year in range(2004, 2009):\n",
        "  file_path = f'/content/drive/My Drive/Allstate (VIR) - Wildfire Incidence and Property Insurance: A Data-Driven Analysis (Team B)/AllstateDataFiles/fires_'+str(year)+ '.csv'\n",
        "  new_data = pd.read_csv(file_path)\n",
        "  df3 = pd.concat([df, new_data], axis=0)\n",
        "\n",
        "for year in range(2010, 2015):\n",
        "  file_path = f'/content/drive/My Drive/Allstate (VIR) - Wildfire Incidence and Property Insurance: A Data-Driven Analysis (Team B)/AllstateDataFiles/fires_'+str(year)+ '.csv'\n",
        "  new_data = pd.read_csv(file_path)\n",
        "  df4 = pd.concat([df, new_data], axis=0)"
      ],
      "metadata": {
        "id": "qjSXJWcvYlca"
      },
      "execution_count": null,
      "outputs": []
    },
    {
      "cell_type": "markdown",
      "metadata": {
        "id": "tCz1WI_rHTEl"
      },
      "source": [
        "# **Part 2: Data Understanding & Data Preparation**\n",
        "Resources: Unit 2 of Machine Learning Foundations\n",
        "\n",
        "**In this section we are going to the following:**\n",
        "1.   Perform exploratory data analysis (EDA) to understand our data, identify key variables, and assess data quality.\n",
        "2.   Clean and preprocess your data, handle missing values and outliers, and transform our data into a suitable format for modeling.\n",
        "\n",
        "**Tasks for this month:**\n",
        "1. Define the problem: What problem is the model solving? What is the label that is being predicted?\n",
        "2. Remove columns we know for sure will not help the machine learning model\n",
        "3. Checking for missing data and fix it\n",
        "4. Feature engineering/transformation?\n",
        "4. Data Visualization: see which feature correlate with the label the most, remove outliers, look for skews, observe distribution\n",
        "3. Data Cleaning: Clean datasets appropriately depending on above results\n",
        "\n",
        "**Notes about expectations and datasets:**\n",
        "*  Goal: Understand the factors influencing the frequency and severity of wildfires and how these factors pose as potential risks for the property insurance  industry.\n",
        "*  We would like to know where we should start offering and stop offering home insurance.\n",
        "*  There is over a million examples in the fire dataset. It contains info about which counties and states wildfires have occured, the severity and the cause.\n",
        "*  We have been given county_level_population dataset which shares a common column with fires datasets: county_fips.\n",
        "\n",
        "**Things we can predict using machine learning:**\n",
        "*  We can predict the *cause* of the wild fire based on the region, month, date and time.\n",
        "*  We can predict the *severity* of wild fire based on cause, region, month, date and time. We can use this information with the county_level_population dataset to understand how Allstate homes will affected.\n",
        "\n",
        "**Questions**\n",
        "1.   What does the allstate_policies and allstate_pif_fraction mean?\n",
        "2.   Are any class imbalance issues in this dataset? (chapter 2.1)\n",
        "\n",
        "\n",
        "\n",
        "\n",
        "\n",
        "\n",
        "\n",
        "\n",
        "\n",
        "\n"
      ]
    },
    {
      "cell_type": "code",
      "source": [
        "df.head(5)"
      ],
      "metadata": {
        "id": "pDirgI-1ZHg2"
      },
      "execution_count": null,
      "outputs": []
    },
    {
      "cell_type": "code",
      "execution_count": null,
      "metadata": {
        "id": "vw1UIU6iQTcU"
      },
      "outputs": [],
      "source": [
        "# What is the size of my dataset?\n",
        "print(df.shape)\n",
        "# What are my features and their datatypes?\n",
        "print(df.dtypes)"
      ]
    },
    {
      "cell_type": "code",
      "execution_count": null,
      "metadata": {
        "id": "AEHskyM41SmA"
      },
      "outputs": [],
      "source": [
        "df_summ = df.describe(include='all')\n",
        "df_summ"
      ]
    },
    {
      "cell_type": "code",
      "source": [
        "df['STAT_CAUSE_CODE'].isna().sum()"
      ],
      "metadata": {
        "id": "too7jnGHMJqs"
      },
      "execution_count": null,
      "outputs": []
    },
    {
      "cell_type": "code",
      "source": [
        "for i in range(1992, 2016):\n",
        "  fire_cause_one_hot = pd.get_dummies(df['STAT_CAUSE_CODE'][])\n",
        "  fire_cause_one_hot.rename(columns={1: \"Cause 1\", 2: \"Cause 2\", 3: \"Cause 3\", 4: \"Cause 4\", 5: \"Cause 5\", 6: \"Cause 6\",\n",
        "                                    7: \"Cause 7\", 8: \"Cause 8\", 9: \"Cause 9\", 10: \"Cause 10\", 11: \"Cause 11\", 12: \"Cause 12\", 13: \"Cause 13\"}, inplace=True)\n",
        "  fire_cause_one_hot.head()\n",
        "  df = df.join(fire_cause_one_hot)\n",
        "  df.head()"
      ],
      "metadata": {
        "id": "2j_TT2sFMbbz"
      },
      "execution_count": null,
      "outputs": []
    },
    {
      "cell_type": "code",
      "source": [],
      "metadata": {
        "id": "JIsylAJOMqzo"
      },
      "execution_count": null,
      "outputs": []
    }
  ],
  "metadata": {
    "colab": {
      "provenance": [],
      "include_colab_link": true
    },
    "kernelspec": {
      "display_name": "Python 3",
      "name": "python3"
    },
    "language_info": {
      "name": "python"
    }
  },
  "nbformat": 4,
  "nbformat_minor": 0
}